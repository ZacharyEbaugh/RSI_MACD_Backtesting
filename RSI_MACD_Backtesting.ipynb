{
 "cells": [
  {
   "cell_type": "markdown",
   "metadata": {},
   "source": [
    "Connect to Alpaca API paper trading account with key and secret key"
   ]
  },
  {
   "cell_type": "code",
   "execution_count": 1,
   "metadata": {},
   "outputs": [],
   "source": [
    "from alpaca.data.historical import StockHistoricalDataClient\n",
    "\n",
    "API_KEY = \"PKPBPBL4QLI3Y5VONCGA\"\n",
    "SECRET_KEY = \"Vrp8tsDgf7PIblEKoYRRaP0JQM6OavDQpFngbRqI\"\n",
    " \n",
    "historical_data = StockHistoricalDataClient(API_KEY, SECRET_KEY)"
   ]
  },
  {
   "cell_type": "markdown",
   "metadata": {},
   "source": [
    "Request Stock data from Alpaca API and format to Pandas DataFrame for compatibility with Backtesting"
   ]
  },
  {
   "cell_type": "code",
   "execution_count": 124,
   "metadata": {},
   "outputs": [
    {
     "name": "stdout",
     "output_type": "stream",
     "text": [
      "                               Open    High     Low   Close      Volume  \\\n",
      "timestamp                                                                 \n",
      "2020-01-02 09:00:00+00:00  323.5200  323.86  323.52  323.83     28435.0   \n",
      "2020-01-02 10:00:00+00:00  323.8200  323.98  323.82  323.91     15239.0   \n",
      "2020-01-02 11:00:00+00:00  323.9400  323.94  323.63  323.63     17868.0   \n",
      "2020-01-02 12:00:00+00:00  323.6100  323.85  323.61  323.85     64861.0   \n",
      "2020-01-02 13:00:00+00:00  323.6899  324.08  322.83  324.03    366678.0   \n",
      "...                             ...     ...     ...     ...         ...   \n",
      "2020-12-31 20:00:00+00:00  372.7850  374.66  372.78  373.87  26078193.0   \n",
      "2020-12-31 21:00:00+00:00  373.8500  374.69  373.84  374.30  23860544.0   \n",
      "2020-12-31 22:00:00+00:00  374.2500  374.42  374.13  374.39   1660849.0   \n",
      "2020-12-31 23:00:00+00:00  374.3900  374.41  374.39  374.40     18666.0   \n",
      "2021-01-01 00:00:00+00:00  374.3900  374.41  374.26  374.39     39799.0   \n",
      "\n",
      "                           trade_count        vwap  \n",
      "timestamp                                           \n",
      "2020-01-02 09:00:00+00:00        101.0  323.695710  \n",
      "2020-01-02 10:00:00+00:00         65.0  323.930348  \n",
      "2020-01-02 11:00:00+00:00         78.0  323.727727  \n",
      "2020-01-02 12:00:00+00:00        393.0  323.744152  \n",
      "2020-01-02 13:00:00+00:00       1178.0  323.912872  \n",
      "...                                ...         ...  \n",
      "2020-12-31 20:00:00+00:00     120708.0  373.648479  \n",
      "2020-12-31 21:00:00+00:00       8907.0  374.082466  \n",
      "2020-12-31 22:00:00+00:00        455.0  373.899728  \n",
      "2020-12-31 23:00:00+00:00        153.0  374.392881  \n",
      "2021-01-01 00:00:00+00:00        177.0  374.394919  \n",
      "\n",
      "[4053 rows x 7 columns]\n"
     ]
    }
   ],
   "source": [
    "# Alpaca Imports\n",
    "from alpaca.data.requests import StockBarsRequest\n",
    "from alpaca.data.timeframe import TimeFrame\n",
    "import pandas as pd\n",
    "\n",
    "# Plotly imports \n",
    "import plotly.graph_objects as go\n",
    "from plotly.subplots import make_subplots\n",
    "\n",
    "# Identify ticker symbol for Alpaca request\n",
    "ticker_list = [\"SPY\"]\n",
    "\n",
    "# Create Alpaca request for stock bar data\n",
    "request_params = StockBarsRequest(\n",
    "                        symbol_or_symbols=ticker_list,\n",
    "                        timeframe=TimeFrame.Hour,\n",
    "                        start=pd.Timestamp(\"2020-01-01\", tz=\"America/New_York\"),\n",
    "                        end=pd.Timestamp(\"2021-01-01\", tz=\"America/New_York\"),\n",
    "                 )\n",
    "\n",
    "# Get stock bar data from Alpaca as dataframe object\n",
    "bars = historical_data.get_stock_bars(request_params).df\n",
    "\n",
    "# Reset bars index to only timestamp and drop symbol column\n",
    "bars = bars.reset_index(level=0, drop=True)\n",
    "\n",
    "# Rename the columns to match backtest columns\n",
    "bars.rename(columns = {\n",
    "       'open':'Open',\n",
    "       'close':'Close',\n",
    "       'high':'High',\n",
    "       'low':'Low',\n",
    "       'volume':'Volume',\n",
    "       'symbol':'Symbol',\n",
    "       'timestamp':'Date'\n",
    "       }, inplace = True)\n",
    "\n",
    "print(bars)"
   ]
  },
  {
   "cell_type": "markdown",
   "metadata": {},
   "source": [
    "From the strategy classes for RSI, MACD and RSI/MACD"
   ]
  },
  {
   "cell_type": "code",
   "execution_count": 140,
   "metadata": {},
   "outputs": [],
   "source": [
    "from backtesting import Strategy\n",
    "from backtesting.lib import cross, crossover\n",
    "import talib\n",
    "\n",
    "class RSI_Strategy(Strategy):\n",
    "    def init(self):\n",
    "        self.rsi = self.I(talib.RSI, self.data.Close, 14)\n",
    "    \n",
    "    def next(self):       \n",
    "        # If RSI crosses above 70, buy the asset\n",
    "        if cross(self.rsi, 70):\n",
    "            self.position.close()\n",
    "            self.buy()\n",
    "\n",
    "        # Else, if RSI crosses below 30, sell it\n",
    "        if cross(self.rsi, 30):\n",
    "            self.position.close()\n",
    "            self.sell()\n",
    "            \n",
    "class MACD_Strategy(Strategy):\n",
    "    def init(self):\n",
    "        self.MACD = self.I(talib.MACD, self.data.Close, 12, 26, 9)\n",
    "        print(self.MACD.shape)\n",
    "    \n",
    "    def next(self):       \n",
    "        # If MACD line crosses above signal line, buy the asset\n",
    "        if crossover(self.MACD[0], self.MACD[1]):\n",
    "            self.position.close()\n",
    "            self.buy()\n",
    "\n",
    "        # Else, if MACD line crosses below signal line, sell the asset\n",
    "        if crossover(self.MACD[1], self.MACD[0]):\n",
    "            self.position.close()\n",
    "            self.sell()\n",
    "\n",
    "class RSI_MACD_Strategy(Strategy):\n",
    "    def init(self):\n",
    "        self.rsi = self.I(talib.RSI, self.data.Close, 14)\n",
    "        self.MACD = self.I(talib.MACD, self.data.Close, 12, 26, 9)\n",
    "    \n",
    "    def next(self):       \n",
    "        # If RSI crosses above 70 and MACD crosses from below, buy the asset\n",
    "        if cross(self.rsi, 70) and (self.MACD[0], self.MACD[1]):\n",
    "            self.position.close()\n",
    "            self.buy()\n",
    "\n",
    "        # Else, if RSI crosses below 30 and MACD crosses from above, sell it\n",
    "        if cross(self.rsi, 30) and crossover(self.MACD[1], self.MACD[0]):\n",
    "            self.position.close()\n",
    "            self.sell()"
   ]
  },
  {
   "cell_type": "markdown",
   "metadata": {},
   "source": [
    "Run backtest on strategy and plot results"
   ]
  },
  {
   "cell_type": "code",
   "execution_count": 141,
   "metadata": {},
   "outputs": [
    {
     "name": "stdout",
     "output_type": "stream",
     "text": [
      "(3, 4053)\n",
      "Start                     2020-01-02 09:00...\n",
      "End                       2021-01-01 00:00...\n",
      "Duration                    364 days 15:00:00\n",
      "Exposure Time [%]                    99.03775\n",
      "Equity Final [$]                  6456.544501\n",
      "Equity Peak [$]                  11467.273986\n",
      "Return [%]                         -35.434555\n",
      "Buy & Hold Return [%]                15.61313\n",
      "Return (Ann.) [%]                  -33.423468\n",
      "Volatility (Ann.) [%]               17.666612\n",
      "Sharpe Ratio                              0.0\n",
      "Sortino Ratio                             0.0\n",
      "Calmar Ratio                              0.0\n",
      "Max. Drawdown [%]                  -44.202823\n",
      "Avg. Drawdown [%]                   -3.705896\n",
      "Max. Drawdown Duration      294 days 03:00:00\n",
      "Avg. Drawdown Duration       16 days 08:00:00\n",
      "# Trades                                  305\n",
      "Win Rate [%]                        30.163934\n",
      "Best Trade [%]                       7.969484\n",
      "Worst Trade [%]                     -6.205795\n",
      "Avg. Trade [%]                      -0.147401\n",
      "Max. Trade Duration           5 days 12:00:00\n",
      "Avg. Trade Duration           1 days 05:00:00\n",
      "Profit Factor                        0.763623\n",
      "Expectancy [%]                      -0.135716\n",
      "SQN                                 -1.463515\n",
      "_strategy                       MACD_Strategy\n",
      "_equity_curve                             ...\n",
      "_trades                        Size  Entry...\n",
      "dtype: object\n",
      "Start                     2020-01-02 09:00...\n",
      "End                       2021-01-01 00:00...\n",
      "Duration                    364 days 15:00:00\n",
      "Exposure Time [%]                   97.532692\n",
      "Equity Final [$]                  8054.166346\n",
      "Equity Peak [$]                    10036.3624\n",
      "Return [%]                         -19.458337\n",
      "Buy & Hold Return [%]                15.61313\n",
      "Return (Ann.) [%]                   -18.22707\n",
      "Volatility (Ann.) [%]               23.161034\n",
      "Sharpe Ratio                              0.0\n",
      "Sortino Ratio                             0.0\n",
      "Calmar Ratio                              0.0\n",
      "Max. Drawdown [%]                  -26.243369\n",
      "Avg. Drawdown [%]                   -4.723638\n",
      "Max. Drawdown Duration      342 days 13:00:00\n",
      "Avg. Drawdown Duration       59 days 10:00:00\n",
      "# Trades                                  159\n",
      "Win Rate [%]                        43.396226\n",
      "Best Trade [%]                       5.759501\n",
      "Worst Trade [%]                    -17.589355\n",
      "Avg. Trade [%]                      -0.137107\n",
      "Max. Trade Duration          25 days 10:00:00\n",
      "Avg. Trade Duration           2 days 06:00:00\n",
      "Profit Factor                         0.76074\n",
      "Expectancy [%]                      -0.116883\n",
      "SQN                                 -0.871055\n",
      "_strategy                   RSI_MACD_Strategy\n",
      "_equity_curve                             ...\n",
      "_trades                        Size  Entry...\n",
      "dtype: object\n"
     ]
    }
   ],
   "source": [
    "from backtesting import Backtest\n",
    "\n",
    "# Create a backtest object for all strategies\n",
    "bt_RSI = Backtest(bars, RSI_Strategy, cash=10000, commission=.002)\n",
    "bt_MACD = Backtest(bars, MACD_Strategy, cash=10000, commission=.002)\n",
    "bt_RSI_MACD = Backtest(bars, RSI_MACD_Strategy, cash=10000, commission=.002)\n",
    "\n",
    "# Run all backtests\n",
    "bt_RSI.run()\n",
    "bt_MACD.run()\n",
    "bt_RSI_MACD.run()\n",
    "\n",
    "# Plot all backtests\n",
    "bt_RSI.plot()\n",
    "bt_MACD.plot()\n",
    "bt_RSI_MACD.plot()\n",
    "\n",
    "# Print all backtest results\n",
    "print(bt_RSI._results)\n",
    "print(bt_MACD._results)\n",
    "print(bt_RSI_MACD._results)"
   ]
  },
  {
   "cell_type": "markdown",
   "metadata": {},
   "source": [
    "From these results we can see that although poor, the MACD/RSI strategy is the best performing wiith a toal of 159 trades and a win rate of 43%.  In order to try and improve the results, we can start by adding a trailing stop loss to the strategy as the size of the losses are quite significant.  In order to do this we will implement a TrailingStrategy from the Backtest library using the same MACD/RSI strategy as above."
   ]
  },
  {
   "cell_type": "code",
   "execution_count": 194,
   "metadata": {},
   "outputs": [],
   "source": [
    "from backtesting.lib import TrailingStrategy\n",
    "\n",
    "class Trailing_RSI_MACD_Strategy(TrailingStrategy):\n",
    "\n",
    "    stop_range = 0\n",
    "\n",
    "    def init(self):\n",
    "        super().init()\n",
    "        self.rsi = self.I(talib.RSI, self.data.Close, 14)\n",
    "        self.MACD = self.I(talib.MACD, self.data.Close, 12, 26, 9)\n",
    "        super().set_trailing_sl(self.stop_range)\n",
    "    \n",
    "    def next(self):       \n",
    "        super().next()\n",
    "        # If RSI crosses above 70 and MACD crosses from below, buy the asset\n",
    "        if cross(self.rsi, 70) and (self.MACD[0], self.MACD[1]):\n",
    "            self.position.close()\n",
    "            self.buy()\n",
    "\n",
    "        # Else, if RSI crosses below 30 and MACD crosses from above, sell it\n",
    "        if cross(self.rsi, 30) and crossover(self.MACD[1], self.MACD[0]):\n",
    "            self.position.close()\n",
    "            self.sell()"
   ]
  },
  {
   "cell_type": "markdown",
   "metadata": {},
   "source": [
    "Lets backtest this strategy and see how minimizing losses helps to improve overall performance"
   ]
  },
  {
   "cell_type": "code",
   "execution_count": 195,
   "metadata": {},
   "outputs": [
    {
     "name": "stdout",
     "output_type": "stream",
     "text": [
      "Start                     2020-01-02 09:00...\n",
      "End                       2021-01-01 00:00...\n",
      "Duration                    364 days 15:00:00\n",
      "Exposure Time [%]                   78.657784\n",
      "Equity Final [$]                  9460.775688\n",
      "Equity Peak [$]                     11484.578\n",
      "Return [%]                          -5.392243\n",
      "Buy & Hold Return [%]                15.61313\n",
      "Return (Ann.) [%]                   -5.023855\n",
      "Volatility (Ann.) [%]               23.468211\n",
      "Sharpe Ratio                              0.0\n",
      "Sortino Ratio                             0.0\n",
      "Calmar Ratio                              0.0\n",
      "Max. Drawdown [%]                  -24.219041\n",
      "Avg. Drawdown [%]                   -3.974929\n",
      "Max. Drawdown Duration      283 days 09:00:00\n",
      "Avg. Drawdown Duration       19 days 16:00:00\n",
      "# Trades                                  159\n",
      "Win Rate [%]                        43.396226\n",
      "Best Trade [%]                       5.759501\n",
      "Worst Trade [%]                     -5.417547\n",
      "Avg. Trade [%]                       -0.03417\n",
      "Max. Trade Duration          17 days 12:00:00\n",
      "Avg. Trade Duration           1 days 19:00:00\n",
      "Profit Factor                        0.935242\n",
      "Expectancy [%]                      -0.025733\n",
      "SQN                                 -0.340785\n",
      "_strategy                 Trailing_RSI_MAC...\n",
      "_equity_curve                             ...\n",
      "_trades                        Size  Entry...\n",
      "dtype: object\n"
     ]
    }
   ],
   "source": [
    "# Create a backtest object for the trailing strategy\n",
    "bt_Trailing_MACD_RSI = Backtest(bars, Trailing_RSI_MACD_Strategy, cash=10000, commission=.002)\n",
    "\n",
    "# Run the backtest setting the stop loss range\n",
    "stats = bt_Trailing_MACD_RSI.run(stop_range=10)\n",
    "\n",
    "# Plot the backtest\n",
    "bt_Trailing_MACD_RSI.plot()\n",
    "\n",
    "# Print the backtest results\n",
    "print(stats)"
   ]
  }
 ],
 "metadata": {
  "kernelspec": {
   "display_name": "Python 3.9.7 ('base')",
   "language": "python",
   "name": "python3"
  },
  "language_info": {
   "codemirror_mode": {
    "name": "ipython",
    "version": 3
   },
   "file_extension": ".py",
   "mimetype": "text/x-python",
   "name": "python",
   "nbconvert_exporter": "python",
   "pygments_lexer": "ipython3",
   "version": "3.9.7"
  },
  "orig_nbformat": 4,
  "vscode": {
   "interpreter": {
    "hash": "b70492cf92a1f78fc18b7684d71bbc4f8886ffb7e78a5e47686b46a1a93e069b"
   }
  }
 },
 "nbformat": 4,
 "nbformat_minor": 2
}
